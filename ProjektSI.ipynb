{
  "nbformat": 4,
  "nbformat_minor": 0,
  "metadata": {
    "colab": {
      "provenance": []
    },
    "kernelspec": {
      "name": "python3",
      "display_name": "Python 3"
    },
    "language_info": {
      "name": "python"
    }
  },
  "cells": [
    {
      "cell_type": "code",
      "execution_count": null,
      "metadata": {
        "id": "W1g6GicZx3Lg"
      },
      "outputs": [],
      "source": [
        "!pip install skorch"
      ]
    },
    {
      "cell_type": "code",
      "source": [
        "import pandas as pd\n",
        "import numpy as np\n",
        "import matplotlib.pyplot as plt\n",
        "from sklearn.model_selection import train_test_split\n",
        "import torch\n",
        "import torch.nn as nn\n",
        "import torch.optim as optim\n",
        "from skorch import NeuralNetClassifier\n",
        "from sklearn.model_selection import GridSearchCV\n",
        "import warnings\n",
        "\n",
        "warnings.simplefilter(action='ignore', category=FutureWarning)"
      ],
      "metadata": {
        "id": "gaqmuqLVx9_X"
      },
      "execution_count": null,
      "outputs": []
    },
    {
      "cell_type": "code",
      "source": [
        "# Load dataset\n",
        "df = pd.read_csv('./House_Rent_Dataset.csv')"
      ],
      "metadata": {
        "id": "gfhAq5TKyAzK"
      },
      "execution_count": null,
      "outputs": []
    },
    {
      "cell_type": "code",
      "source": [
        "# Separate target and features\n",
        "target = pd.DataFrame(df['Rent'])\n",
        "df.drop('Rent', axis=1, inplace=True)"
      ],
      "metadata": {
        "id": "DeRJ1jnKyCdQ"
      },
      "execution_count": null,
      "outputs": []
    },
    {
      "cell_type": "code",
      "source": [
        "# Encode categorical features\n",
        "for col in df[['Floor', 'Area Type', 'Area Locality', 'City', 'Furnishing Status', 'Tenant Preferred', 'Point of Contact']]:\n",
        "    df[col] = pd.Categorical(df[col]).codes"
      ],
      "metadata": {
        "id": "TMENuVu3yD-m"
      },
      "execution_count": null,
      "outputs": []
    },
    {
      "cell_type": "code",
      "source": [
        "# Convert date to numeric\n",
        "df['Posted On'] = pd.to_datetime(df['Posted On'])\n",
        "df['Posted On'] = df['Posted On'].astype('int64') // 10**10"
      ],
      "metadata": {
        "id": "erjgFLc-yGXg"
      },
      "execution_count": null,
      "outputs": []
    },
    {
      "cell_type": "code",
      "source": [
        "# Check the first few rows\n",
        "print(df.head())\n",
        "print(target.head())"
      ],
      "metadata": {
        "id": "HEkaQHioyHQG"
      },
      "execution_count": null,
      "outputs": []
    },
    {
      "cell_type": "code",
      "source": [
        "# Split the dataset into training and testing sets\n",
        "X_train, X_test, y_train, y_test = train_test_split(df.values, target.values, test_size=0.2, random_state=42)"
      ],
      "metadata": {
        "id": "H8JScoXKyIdI"
      },
      "execution_count": null,
      "outputs": []
    },
    {
      "cell_type": "code",
      "source": [
        "# Convert Rent values to a binary class for classification (for example, high rent vs. low rent)\n",
        "median_rent = target.median()[0]\n",
        "y_train_class = (y_train >= median_rent).astype(int).ravel()  # Ensure 1D\n",
        "y_test_class = (y_test >= median_rent).astype(int).ravel()  # Ensure 1D"
      ],
      "metadata": {
        "id": "zzODxutqyI5k"
      },
      "execution_count": null,
      "outputs": []
    },
    {
      "cell_type": "code",
      "source": [
        "# Define the neural network architecture with flexible layers\n",
        "class HouseRentNN(nn.Module):\n",
        "    def __init__(self, input_dim, hidden_dims, output_dim):\n",
        "        super(HouseRentNN, self).__init__()\n",
        "        layers = []\n",
        "        prev_dim = input_dim\n",
        "        for hidden_dim in hidden_dims:\n",
        "            layers.append(nn.Linear(prev_dim, hidden_dim))\n",
        "            layers.append(nn.ReLU())\n",
        "            prev_dim = hidden_dim\n",
        "        layers.append(nn.Linear(prev_dim, output_dim))\n",
        "        self.model = nn.Sequential(*layers)\n",
        "\n",
        "    def forward(self, x):\n",
        "        return self.model(x)\n"
      ],
      "metadata": {
        "id": "1mDse_4ZyKJn"
      },
      "execution_count": null,
      "outputs": []
    },
    {
      "cell_type": "code",
      "source": [
        "# Define the input and output dimensions\n",
        "input_dim = X_train.shape[1]\n",
        "output_dim = 2\n"
      ],
      "metadata": {
        "id": "AGFLP0hoyL7H"
      },
      "execution_count": null,
      "outputs": []
    },
    {
      "cell_type": "code",
      "source": [
        "# Create the neural network\n",
        "net = NeuralNetClassifier(\n",
        "    module=HouseRentNN,\n",
        "    max_epochs=20,\n",
        "    lr=0.1,\n",
        "    optimizer=optim.Adam,\n",
        "    criterion=nn.CrossEntropyLoss,\n",
        "    iterator_train__shuffle=True,\n",
        "    verbose=0,\n",
        "    module__input_dim=input_dim,\n",
        "    module__output_dim=output_dim\n",
        ")"
      ],
      "metadata": {
        "id": "s-vYfvAVyNFv"
      },
      "execution_count": null,
      "outputs": []
    },
    {
      "cell_type": "code",
      "source": [
        "# Define the parameter grid for GridSearchCV\n",
        "params = {\n",
        "    'lr': [0.01, 0.02, 0.05],\n",
        "    'max_epochs': [10, 20, 30],\n",
        "    'module__hidden_dims': [\n",
        "        [32],\n",
        "        [64],\n",
        "        [32, 32],\n",
        "        [64, 32],\n",
        "        [64, 64],\n",
        "        [128, 64],\n",
        "        [128, 128]\n",
        "    ],\n",
        "    'optimizer__weight_decay': [0, 1e-4, 1e-2]\n",
        "}\n"
      ],
      "metadata": {
        "id": "vXhAdPrcyO7X"
      },
      "execution_count": null,
      "outputs": []
    },
    {
      "cell_type": "code",
      "source": [
        "# Perform grid search\n",
        "gs = GridSearchCV(net, params, refit=True, cv=3, scoring='accuracy')\n",
        "gs.fit(X_train.astype(np.float32), y_train_class)"
      ],
      "metadata": {
        "id": "eaHauP1EyQUg"
      },
      "execution_count": null,
      "outputs": []
    },
    {
      "cell_type": "code",
      "source": [
        "# Print best parameters and best score\n",
        "print(\"Best parameters found: \", gs.best_params_)\n",
        "print(\"Best cross-validation accuracy: \", gs.best_score_)"
      ],
      "metadata": {
        "id": "7MxBAT7FyR8z"
      },
      "execution_count": null,
      "outputs": []
    },
    {
      "cell_type": "code",
      "source": [
        "# Print all results\n",
        "results = pd.DataFrame(gs.cv_results_)\n",
        "print(results)"
      ],
      "metadata": {
        "id": "e95Y2cT8ym_F"
      },
      "execution_count": null,
      "outputs": []
    },
    {
      "cell_type": "code",
      "source": [
        "# Evaluate the best model on the test set\n",
        "best_model = gs.best_estimator_\n",
        "test_accuracy = best_model.score(X_test.astype(np.float32), y_test_class)\n",
        "print(\"Test set accuracy: \", test_accuracy)"
      ],
      "metadata": {
        "id": "h5Uppkf_yT4c"
      },
      "execution_count": null,
      "outputs": []
    }
  ]
}